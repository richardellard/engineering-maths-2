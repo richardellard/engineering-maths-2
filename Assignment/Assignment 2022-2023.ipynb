{
 "cells": [
  {
   "cell_type": "markdown",
   "metadata": {},
   "source": [
    "# MATH 4019 - Engineering Maths (2) - Assignment 2022-2023\n",
    "\n",
    "You must submit this assignment by **Friday, May 5 at 9:30 pm**. Questions will not be answered in the final 24 hours before the deadline and **Brightspace will not accept late submissions**.\n",
    "\n",
    "This examination will be marked out of a total of **50 marks**. Attempt **all questions**.\n",
    "\n",
    "- If you are using Binder to run this code, you can save your work at any time by clicking the `Save to browser storage` button, as shown here:\n",
    "<img src=\"buttons.png\" width=300>\n",
    "- When you resume, click `Restore from browser storage`.\n",
    "- When you have completed the assignment, press the `Download` button to save the notebook to your computer and then upload the assignment to Brightspace.\n",
    "\n",
    "You may create more cells in this notebook if you wish (`Insert` -> `Insert Cell Below`).\n",
    "\n",
    "You should run the following cell before attempting to run any other code. You are free to add any further imports as you require."
   ]
  },
  {
   "cell_type": "code",
   "execution_count": null,
   "metadata": {},
   "outputs": [],
   "source": [
    "from sympy import *\n",
    "\n",
    "init_printing()"
   ]
  },
  {
   "cell_type": "markdown",
   "metadata": {},
   "source": [
    "## Question 1 (16 marks)\n",
    "\n",
    "Consider the matrices\n",
    "$$\n",
    "    A=\\left(\n",
    "        \\begin{array}{cc}\n",
    "            -1 & 2 & 0 & 6 \\\\\n",
    "            2 & 4 & -1 & 3 \\\\\n",
    "            3 & 4 & 7 & -1 \\\\\n",
    "        \\end{array}\n",
    "    \\right),\\quad\n",
    "    B=\\left(\n",
    "        \\begin{array}{cc}\n",
    "            1 & 0 & 4 & -6 \\\\\n",
    "            2 & 5 & 0 & 3 \\\\\n",
    "            -1 & 2 & 3 & 5 \\\\\n",
    "            2 & 1 & -2 & 3 \\\\\n",
    "        \\end{array}\n",
    "    \\right),\\quad\n",
    "    C=\\left(\n",
    "        \\begin{array}{cc}\n",
    "            11 & 2 & 1 & -5 \\\\\n",
    "            3 & 0 & 0 & 1 \\\\\n",
    "            -2 & 1 & 1 & 0 \\\\\n",
    "        \\end{array}\n",
    "    \\right).\n",
    "$$"
   ]
  },
  {
   "cell_type": "markdown",
   "metadata": {},
   "source": [
    "**(a)** Find the product $AB$. **(2 marks)**"
   ]
  },
  {
   "cell_type": "code",
   "execution_count": null,
   "metadata": {},
   "outputs": [],
   "source": []
  },
  {
   "cell_type": "markdown",
   "metadata": {},
   "source": [
    "**(b)** Find $B^3$. **(2 marks)**"
   ]
  },
  {
   "cell_type": "code",
   "execution_count": null,
   "metadata": {},
   "outputs": [],
   "source": []
  },
  {
   "cell_type": "markdown",
   "metadata": {},
   "source": [
    "**(c)** Compute $A-2C$. **(3 marks)**"
   ]
  },
  {
   "cell_type": "code",
   "execution_count": null,
   "metadata": {},
   "outputs": [],
   "source": []
  },
  {
   "cell_type": "markdown",
   "metadata": {},
   "source": [
    "**(d)** Find the trace of $B$. **(2 marks)**"
   ]
  },
  {
   "cell_type": "code",
   "execution_count": null,
   "metadata": {},
   "outputs": [],
   "source": []
  },
  {
   "cell_type": "markdown",
   "metadata": {},
   "source": [
    "**(e)** Find the determinant of $B$. **(2 marks)**"
   ]
  },
  {
   "cell_type": "code",
   "execution_count": null,
   "metadata": {},
   "outputs": [],
   "source": []
  },
  {
   "cell_type": "markdown",
   "metadata": {},
   "source": [
    "**(f)** Find the inverse of $B$. **(2 marks)**"
   ]
  },
  {
   "cell_type": "code",
   "execution_count": null,
   "metadata": {},
   "outputs": [],
   "source": []
  },
  {
   "cell_type": "markdown",
   "metadata": {},
   "source": [
    "**(g)** Compute the matrix $B-B^{-1}$. **(3 marks)**"
   ]
  },
  {
   "cell_type": "code",
   "execution_count": null,
   "metadata": {},
   "outputs": [],
   "source": []
  },
  {
   "cell_type": "markdown",
   "metadata": {},
   "source": [
    "## Question 2 (8 marks)\n",
    "\n",
    "Solve the system\n",
    "\\begin{align*}\n",
    "    w-2x+3y+z &= 18,\\\\\n",
    "    2x+y-2z &= -15,\\\\\n",
    "    4w+3x-y &= -8,\\\\\n",
    "    w+x-2y+z &= -2\\\\\n",
    "\\end{align*}\n",
    "for $(w,x,y,z)$."
   ]
  },
  {
   "cell_type": "code",
   "execution_count": null,
   "metadata": {},
   "outputs": [],
   "source": []
  },
  {
   "cell_type": "markdown",
   "metadata": {},
   "source": [
    "## Question 3 (6 marks)\n",
    "\n",
    "Find the eigenvalues and associated eigenvectors of the matrix\n",
    "$$\n",
    "    A=\\left(\\begin{array}{ccc}\n",
    "\t\t1 & 4 & 5 \\\\\n",
    "\t\t0 & 0 & -2 \\\\\n",
    "\t\t0 & -2 & 0\n",
    "\t\\end{array}\\right).\n",
    "$$"
   ]
  },
  {
   "cell_type": "code",
   "execution_count": null,
   "metadata": {},
   "outputs": [],
   "source": []
  },
  {
   "cell_type": "markdown",
   "metadata": {},
   "source": [
    "## Question 4 (6 marks)\n",
    "\n",
    "Find the Laplace transforms of the following functions:"
   ]
  },
  {
   "cell_type": "markdown",
   "metadata": {},
   "source": [
    "**(a)** $f(t)=2t^3-4te^{-t}-\\cos(4t)$ **(3 marks)**"
   ]
  },
  {
   "cell_type": "code",
   "execution_count": null,
   "metadata": {},
   "outputs": [],
   "source": []
  },
  {
   "cell_type": "markdown",
   "metadata": {},
   "source": [
    "**(b)** $f(t)=(e^{2t}+t^2)\\sin(5t)$ **(3 marks)**"
   ]
  },
  {
   "cell_type": "code",
   "execution_count": null,
   "metadata": {},
   "outputs": [],
   "source": []
  },
  {
   "cell_type": "markdown",
   "metadata": {},
   "source": [
    "## Question 5 (6 marks)\n",
    "\n",
    "Consider the function\n",
    "$$\n",
    "    F(s)=\\frac{1}{s^3(s-4)}.\n",
    "$$"
   ]
  },
  {
   "cell_type": "markdown",
   "metadata": {},
   "source": [
    "**(a)** Find the partial fraction expansion of $F(s)$. **(2 marks)**"
   ]
  },
  {
   "cell_type": "code",
   "execution_count": null,
   "metadata": {},
   "outputs": [],
   "source": []
  },
  {
   "cell_type": "markdown",
   "metadata": {},
   "source": [
    "**(b)** Find the inverse Laplace transform of $F(s)$. **(4 marks)**"
   ]
  },
  {
   "cell_type": "code",
   "execution_count": null,
   "metadata": {},
   "outputs": [],
   "source": []
  },
  {
   "cell_type": "markdown",
   "metadata": {},
   "source": [
    "## Question 6 (8 marks)\n",
    "\n",
    "Solve the differential equation\n",
    "$$\n",
    "    f''(t)-4f'(t)=t,\n",
    "$$\n",
    "subject to the initial conditions $f(0)=f'(0)=0$."
   ]
  },
  {
   "cell_type": "code",
   "execution_count": null,
   "metadata": {},
   "outputs": [],
   "source": []
  }
 ],
 "metadata": {
  "kernelspec": {
   "display_name": "Python 3",
   "language": "python",
   "name": "python3"
  },
  "language_info": {
   "codemirror_mode": {
    "name": "ipython",
    "version": 3
   },
   "file_extension": ".py",
   "mimetype": "text/x-python",
   "name": "python",
   "nbconvert_exporter": "python",
   "pygments_lexer": "ipython3",
   "version": "3.7.1"
  }
 },
 "nbformat": 4,
 "nbformat_minor": 2
}
