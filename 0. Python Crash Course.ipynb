{
 "cells": [
  {
   "cell_type": "markdown",
   "metadata": {},
   "source": [
    "# Primitive data types"
   ]
  },
  {
   "cell_type": "markdown",
   "metadata": {},
   "source": [
    "Integers are whole numbers and are represented by the `int` data type in Python. Real numbers (floating point numbers) are represented by the `float` data type:"
   ]
  },
  {
   "cell_type": "code",
   "execution_count": null,
   "metadata": {},
   "outputs": [],
   "source": [
    "x = 4\n",
    "\n",
    "type(x)"
   ]
  },
  {
   "cell_type": "code",
   "execution_count": null,
   "metadata": {},
   "outputs": [],
   "source": [
    "y = 2.5\n",
    "\n",
    "type(y)"
   ]
  },
  {
   "cell_type": "markdown",
   "metadata": {},
   "source": [
    "Note that we did not have to specify the type of the variable when we declared it - Python is a \"dynamically typed\" language. The `=` operator performs *variable assignment*: above, the integer value 4 has been stored in the variable `x` and the floating point value 2.5 has been stored in the variable `y`.\n",
    "\n",
    "Of course, we can perform basic arithmetic operations with numbers:"
   ]
  },
  {
   "cell_type": "code",
   "execution_count": null,
   "metadata": {},
   "outputs": [],
   "source": [
    "print(x + y)\n",
    "print(x - y)\n",
    "print(x * y)\n",
    "print(x / y)\n",
    "print(x ** y) # x to the power of y"
   ]
  },
  {
   "cell_type": "markdown",
   "metadata": {},
   "source": [
    "Above, we have seen our first example of a code *comment*. This are preceded with the `#` symbol and are ignored by the Python interpretor. They are written purely to help the (human) reader of the code."
   ]
  },
  {
   "cell_type": "markdown",
   "metadata": {},
   "source": [
    "The `print` function (above) is very useful. The final expression evaluated will be output automatically from the cell, but if we wish to display more output, we must invoke `print`."
   ]
  },
  {
   "cell_type": "markdown",
   "metadata": {},
   "source": [
    "A *string* is a sequence of characters and is represented by the `str` data type. A string *literal* can be enclosed by either single of double quotes. The `+` operator for strings performs *string concatenation*."
   ]
  },
  {
   "cell_type": "code",
   "execution_count": null,
   "metadata": {},
   "outputs": [],
   "source": [
    "s1 = 'Hello, '\n",
    "s2 = 'World!'\n",
    "\n",
    "print(s1 + s2)\n",
    "type(s1 + s2)"
   ]
  },
  {
   "cell_type": "markdown",
   "metadata": {},
   "source": [
    "The final primitive data type is the *Boolean* value, or `bool`. It must take one of two possible values: `True` or `False`. We can combine boolean values using the `and`, `or` and `not` operators."
   ]
  },
  {
   "cell_type": "code",
   "execution_count": null,
   "metadata": {},
   "outputs": [],
   "source": [
    "x = True\n",
    "y = False\n",
    "\n",
    "print(x and y) # returns True if both are True\n",
    "print(x or y) # returns True if at least one is True\n",
    "print(not x) # returns the opposite truth value\n",
    "\n",
    "type(x)"
   ]
  },
  {
   "cell_type": "markdown",
   "metadata": {
    "slideshow": {
     "slide_type": "-"
    }
   },
   "source": [
    "# Dictionaries, lists and sets"
   ]
  },
  {
   "cell_type": "markdown",
   "metadata": {
    "slideshow": {
     "slide_type": "-"
    }
   },
   "source": [
    "A *dictionary* is a collection of key-value pairs. We can write a dictionary *literal* as follows:"
   ]
  },
  {
   "cell_type": "code",
   "execution_count": null,
   "metadata": {
    "slideshow": {
     "slide_type": "-"
    }
   },
   "outputs": [],
   "source": [
    "mydict = {'foo': 3, 'bar': 4, 'baz': 'cat'}"
   ]
  },
  {
   "cell_type": "markdown",
   "metadata": {},
   "source": [
    "We can access/modify the contents of the dictionary as follows:"
   ]
  },
  {
   "cell_type": "code",
   "execution_count": null,
   "metadata": {},
   "outputs": [],
   "source": [
    "mydict['foo'] = 10\n",
    "mydict[5] = 'dog'\n",
    "print(mydict['foo'])\n",
    "print(mydict[5])"
   ]
  },
  {
   "cell_type": "markdown",
   "metadata": {},
   "source": [
    "We can create *list* literals like this:"
   ]
  },
  {
   "cell_type": "code",
   "execution_count": null,
   "metadata": {},
   "outputs": [],
   "source": [
    "mylist = [67, None, 'George Boole']"
   ]
  },
  {
   "cell_type": "markdown",
   "metadata": {},
   "source": [
    "and access/modify the elements like this:"
   ]
  },
  {
   "cell_type": "code",
   "execution_count": null,
   "metadata": {},
   "outputs": [],
   "source": [
    "print(mylist[0])\n",
    "mylist[2] = 'William Rowan Hamilton'"
   ]
  },
  {
   "cell_type": "markdown",
   "metadata": {},
   "source": [
    "Observe from the above that lists are zero-indexed: the first item lies at index zero."
   ]
  },
  {
   "cell_type": "markdown",
   "metadata": {},
   "source": [
    "What do you expect to happen if we try to add a fourth element to our list in the following manner?"
   ]
  },
  {
   "cell_type": "code",
   "execution_count": null,
   "metadata": {},
   "outputs": [],
   "source": [
    "mylist[3] = 1"
   ]
  },
  {
   "cell_type": "markdown",
   "metadata": {},
   "source": [
    "Instead, we should do the following:"
   ]
  },
  {
   "cell_type": "code",
   "execution_count": null,
   "metadata": {},
   "outputs": [],
   "source": [
    "mylist.append(1)\n",
    "print(mylist)"
   ]
  },
  {
   "cell_type": "markdown",
   "metadata": {},
   "source": [
    "A *set* in Python is similar to a set in mathematics, in that its elements are unordered and unindexed. This means the elements of a set cannot be accessed by index, but we can loop through the elements of a set (we will see this later). We cal also check for membership of a set. A set literal is defined using curly braces:"
   ]
  },
  {
   "cell_type": "code",
   "execution_count": null,
   "metadata": {},
   "outputs": [],
   "source": [
    "S = {'a', 'b', 'c', 'd'}\n",
    "\n",
    "print('b' in S)\n",
    "print('e' in S)"
   ]
  },
  {
   "cell_type": "markdown",
   "metadata": {},
   "source": [
    "# Conditional statements"
   ]
  },
  {
   "cell_type": "markdown",
   "metadata": {},
   "source": [
    "Python conditional statements manage the *control flow* of the program. They use the ``if``, ``elif`` (\"else if\") and ``else`` keywords. Indentation (using the tab character) is used to define scope:"
   ]
  },
  {
   "cell_type": "code",
   "execution_count": null,
   "metadata": {},
   "outputs": [],
   "source": [
    "a = 150\n",
    "b = 125\n",
    "\n",
    "if b > a:\n",
    "    print(\"b is greater than a.\")\n",
    "elif a == b:\n",
    "    print(\"a and b are equal.\")\n",
    "else:\n",
    "    print(\"a is greater than b.\")"
   ]
  },
  {
   "cell_type": "markdown",
   "metadata": {},
   "source": [
    "More complicated conditions can be constructed using the ``and``, ``or`` and ``not`` logical operators:"
   ]
  },
  {
   "cell_type": "code",
   "execution_count": null,
   "metadata": {},
   "outputs": [],
   "source": [
    "check = True\n",
    "a = 1\n",
    "b = 2\n",
    "c = 3\n",
    "d = 3\n",
    "\n",
    "if (a <= b and c <= d) or (not check):\n",
    "    print('yes')\n",
    "else:\n",
    "    print('no')"
   ]
  },
  {
   "cell_type": "markdown",
   "metadata": {},
   "source": [
    "# Loops"
   ]
  },
  {
   "cell_type": "markdown",
   "metadata": {},
   "source": [
    "Python allows one to *loop* over a collection of objects. In this way, *iteration* (a series of repeated steps) may be performed."
   ]
  },
  {
   "cell_type": "code",
   "execution_count": null,
   "metadata": {},
   "outputs": [],
   "source": [
    "countries = ['Ireland', 'Italy', 'Australia']\n",
    "S = {'a', 'b', 'c', 'd'}\n",
    "\n",
    "for country in countries:\n",
    "    print(country)\n",
    "    \n",
    "for i in range(4): # returns the numbers 0, 1, 2, 3 (including 0, but not 4)\n",
    "    print(i)\n",
    "    \n",
    "for s in S:\n",
    "    print(s)"
   ]
  },
  {
   "cell_type": "markdown",
   "metadata": {},
   "source": [
    "Is the order in which the elements of the set above were printed surprising?"
   ]
  },
  {
   "cell_type": "markdown",
   "metadata": {},
   "source": [
    "# Functions"
   ]
  },
  {
   "cell_type": "markdown",
   "metadata": {},
   "source": [
    "In mathematics, a function takes and input and returns an output. In programming, both of those things are optional and the function can perform some additional tasks while it runs.\n",
    "\n",
    "The Python syntax for defining and calling functions is as follows (remember to pay attention to indentation):"
   ]
  },
  {
   "cell_type": "code",
   "execution_count": null,
   "metadata": {},
   "outputs": [],
   "source": [
    "def say_hello():\n",
    "    print('Hello!')\n",
    "    \n",
    "say_hello()"
   ]
  },
  {
   "cell_type": "markdown",
   "metadata": {},
   "source": [
    "Python handles function *arguments* (inputs) like most programming languages:"
   ]
  },
  {
   "cell_type": "code",
   "execution_count": null,
   "metadata": {},
   "outputs": [],
   "source": [
    "def say_hello(first_name, last_name):\n",
    "    print('Hello, ' + first_name + ' ' + last_name + '!')\n",
    "    \n",
    "say_hello('Alice', 'Smith')"
   ]
  },
  {
   "cell_type": "markdown",
   "metadata": {},
   "source": [
    "Importantly, functions can return values to the caller:"
   ]
  },
  {
   "cell_type": "code",
   "execution_count": null,
   "metadata": {},
   "outputs": [],
   "source": [
    "def double_it(x):\n",
    "    return 2 * x\n",
    "\n",
    "print(double_it(7))"
   ]
  }
 ],
 "metadata": {
  "kernelspec": {
   "display_name": "Python 3",
   "language": "python",
   "name": "python3"
  },
  "language_info": {
   "codemirror_mode": {
    "name": "ipython",
    "version": 3
   },
   "file_extension": ".py",
   "mimetype": "text/x-python",
   "name": "python",
   "nbconvert_exporter": "python",
   "pygments_lexer": "ipython3",
   "version": "3.7.1"
  }
 },
 "nbformat": 4,
 "nbformat_minor": 2
}
